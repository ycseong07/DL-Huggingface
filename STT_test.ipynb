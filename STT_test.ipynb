{
 "cells": [
  {
   "cell_type": "markdown",
   "id": "511382bf",
   "metadata": {},
   "source": [
    "# 0. 필요한 패키지 불러오기"
   ]
  },
  {
   "cell_type": "code",
   "execution_count": 25,
   "id": "35f861bc",
   "metadata": {
    "ExecuteTime": {
     "end_time": "2023-05-08T07:25:39.371647Z",
     "start_time": "2023-05-08T07:25:39.365761Z"
    }
   },
   "outputs": [],
   "source": [
    "import nltk\n",
    "import librosa\n",
    "import torch\n",
    "import soundfile as sf\n",
    "from transformers import Wav2Vec2ForCTC, Wav2Vec2Tokenizer\n",
    "# nltk.download('punkt')"
   ]
  },
  {
   "cell_type": "markdown",
   "id": "ff7a73f6",
   "metadata": {},
   "source": [
    "# 1. 단계별 함수 정의"
   ]
  },
  {
   "cell_type": "code",
   "execution_count": 26,
   "id": "a873f707",
   "metadata": {
    "ExecuteTime": {
     "end_time": "2023-05-08T07:25:39.589219Z",
     "start_time": "2023-05-08T07:25:39.583098Z"
    }
   },
   "outputs": [],
   "source": [
    "# 모델 로드\n",
    "\n",
    "def stt_load_model():\n",
    "    # model, tokenizer 로드 \n",
    "    tokenizer = Wav2Vec2Tokenizer.from_pretrained(\"facebook/wav2vec2-base-960h\")\n",
    "    model = Wav2Vec2ForCTC.from_pretrained(\"facebook/wav2vec2-base-960h\")    \n",
    "    return tokenizer, model"
   ]
  },
  {
   "cell_type": "code",
   "execution_count": 27,
   "id": "29d45519",
   "metadata": {
    "ExecuteTime": {
     "end_time": "2023-05-08T07:25:39.700414Z",
     "start_time": "2023-05-08T07:25:39.693444Z"
    }
   },
   "outputs": [],
   "source": [
    "# 데이터 읽고 전처리\n",
    "\n",
    "def stt_transcript(tokenizer, model, speech, samplerate):\n",
    "    speech, samplerate = sf.read(input_file)\n",
    "    # multi-channel -> mono\n",
    "    if len(speech.shape) > 1: \n",
    "#         speech = speech[:,0] + speech[:,1]\n",
    "        speech = speech.mean(axis=1)\n",
    "    # 16khz로 Resampling\n",
    "    if samplerate != 16000:\n",
    "        speech = librosa.resample(speech, samplerate, 16000)\n",
    "    # 토크나이징\n",
    "    input_values = tokenizer(speech, return_tensors=\"pt\").input_values\n",
    "    # logits\n",
    "    logits = model(input_values).logits\n",
    "    # argmax -> 가장 높은 확률의 단어 반환\n",
    "    predicted_ids = torch.argmax(logits, dim=-1)\n",
    "    # 디코딩\n",
    "    transcription = tokenizer.decode(predicted_ids[0])\n",
    "    #  punkt 모델을 사용해 sentence tokenization (문장의 앞 글자만 대문자)\n",
    "    sentences = nltk.sent_tokenize(transcription.lower())\n",
    "    transcription = (' '.join([s.replace(s[0],s[0].capitalize(),1) for s in sentences]))\n",
    "    \n",
    "    return transcription"
   ]
  },
  {
   "cell_type": "markdown",
   "id": "eed8aac5",
   "metadata": {},
   "source": [
    "# 2. 사용자가 데이터 업로드 시"
   ]
  },
  {
   "cell_type": "code",
   "execution_count": 28,
   "id": "1697991e",
   "metadata": {
    "ExecuteTime": {
     "end_time": "2023-05-08T07:25:40.268324Z",
     "start_time": "2023-05-08T07:25:40.263516Z"
    }
   },
   "outputs": [],
   "source": [
    "wav_input = 'harvard.wav'"
   ]
  },
  {
   "cell_type": "markdown",
   "id": "9a53f2c9",
   "metadata": {},
   "source": [
    "# 3. 모델, 토크나이저 로드"
   ]
  },
  {
   "cell_type": "code",
   "execution_count": 29,
   "id": "5c2e8965",
   "metadata": {
    "ExecuteTime": {
     "end_time": "2023-05-08T07:25:44.024713Z",
     "start_time": "2023-05-08T07:25:40.733074Z"
    }
   },
   "outputs": [
    {
     "name": "stderr",
     "output_type": "stream",
     "text": [
      "/opt/conda/lib/python3.8/site-packages/transformers/models/wav2vec2/tokenization_wav2vec2.py:417: FutureWarning: The class `Wav2Vec2Tokenizer` is deprecated and will be removed in version 5 of Transformers. Please use `Wav2Vec2Processor` or `Wav2Vec2CTCTokenizer` instead.\n",
      "  warnings.warn(\n",
      "Some weights of Wav2Vec2ForCTC were not initialized from the model checkpoint at facebook/wav2vec2-base-960h and are newly initialized: ['wav2vec2.masked_spec_embed']\n",
      "You should probably TRAIN this model on a down-stream task to be able to use it for predictions and inference.\n"
     ]
    }
   ],
   "source": [
    "tokenizer, model = stt_load_model()"
   ]
  },
  {
   "cell_type": "markdown",
   "id": "82f451c6",
   "metadata": {},
   "source": [
    "# 4. 전처리"
   ]
  },
  {
   "cell_type": "code",
   "execution_count": 30,
   "id": "92900640",
   "metadata": {
    "ExecuteTime": {
     "end_time": "2023-05-08T07:25:45.671640Z",
     "start_time": "2023-05-08T07:25:44.025531Z"
    }
   },
   "outputs": [],
   "source": [
    "text = stt_transcript(tokenizer,model,wav_input)"
   ]
  },
  {
   "cell_type": "markdown",
   "id": "1d9b7f77",
   "metadata": {},
   "source": [
    "# 5. 결과 출력"
   ]
  },
  {
   "cell_type": "code",
   "execution_count": 31,
   "id": "82d81eeb",
   "metadata": {
    "ExecuteTime": {
     "end_time": "2023-05-08T07:25:45.674148Z",
     "start_time": "2023-05-08T07:25:45.672602Z"
    }
   },
   "outputs": [
    {
     "name": "stdout",
     "output_type": "stream",
     "text": [
      "The stale smell of old beer lingers it takes heat to bring out the odor a cold dip restores health and zest a salt pickle tastes fine with ham takos al pastore are my favorite a zestful food is the hot cross bun\n"
     ]
    }
   ],
   "source": [
    "print(text)"
   ]
  }
 ],
 "metadata": {
  "kernelspec": {
   "display_name": "Python 3",
   "language": "python",
   "name": "python3"
  },
  "language_info": {
   "codemirror_mode": {
    "name": "ipython",
    "version": 3
   },
   "file_extension": ".py",
   "mimetype": "text/x-python",
   "name": "python",
   "nbconvert_exporter": "python",
   "pygments_lexer": "ipython3",
   "version": "3.8.10"
  },
  "toc": {
   "base_numbering": 1,
   "nav_menu": {},
   "number_sections": false,
   "sideBar": true,
   "skip_h1_title": false,
   "title_cell": "Table of Contents",
   "title_sidebar": "Contents",
   "toc_cell": false,
   "toc_position": {},
   "toc_section_display": true,
   "toc_window_display": false
  }
 },
 "nbformat": 4,
 "nbformat_minor": 5
}
